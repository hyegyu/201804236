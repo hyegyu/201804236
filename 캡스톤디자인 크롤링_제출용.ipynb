{
 "cells": [
  {
   "cell_type": "code",
   "execution_count": null,
   "metadata": {},
   "outputs": [],
   "source": [
    "import requests\n",
    "from bs4 import BeautifulSoup\n",
    "from selenium import webdriver\n",
    "import time"
   ]
  },
  {
   "cell_type": "markdown",
   "metadata": {},
   "source": [
    "#sortBy=ORDER_SCORE_ASC  date기준으로 오름/내림하면 글을 안쓰신 분들이 있음\n",
    "#size= 부분을 크게 잡으면 많은 데이터가 한 페이지에 나옴\n",
    "#ratings= 부분을 1~5점까지 각 점수다 1000개씩 크롤링 하여 다양한 점수\n",
    "\n",
    "driver = webdriver.Chrome('/Users/user/Downloads/chromedriver.exe')\n",
    "\n",
    "driver.get(url)\n",
    "\n",
    "#이름\n",
    "user=driver.find_element_by_xpath('''/html/body/article[1]/div[1]/div[2]/span''')\n",
    "'''\n",
    "/html/body/article[i]/div[1]/div[2]/span\n",
    "'''\n",
    "user.text\n",
    "\n",
    "#날짜\n",
    "date=driver.find_element_by_xpath('''/html/body/article[1]/div[1]/div[3]/div[2]''')\n",
    "'''\n",
    "/html/body/article[i]/div[1]/div[3]/div[2]\n",
    "'''\n",
    "date.text\n",
    "\n",
    "#리뷰\n",
    "rev=driver.find_element_by_xpath('''/html/body/article[10]/div[4]/div''')\n",
    "'''\n",
    "/html/body/article[1]/div[3]/div\n",
    "/html/body/article[i]/div[4]/div\n",
    "'''"
   ]
  },
  {
   "cell_type": "markdown",
   "metadata": {},
   "source": [
    "|index|상품|수집한 리뷰 수|전체 리뷰 수|\n",
    "|---|---|---|---|\n",
    "|1|반려동물용품|4362|45,111|\n",
    "|2|식품|4991|518,921|\n",
    "|3|인테리어|5000|54,185|\n",
    "|4|뷰티|2716|27,042|\n",
    "|5|생활용품|4854|81,505|\n",
    "|6|가전|4061|53,803|\n",
    "|7|스포츠|2299|12,145|"
   ]
  },
  {
   "cell_type": "code",
   "execution_count": null,
   "metadata": {},
   "outputs": [],
   "source": [
    "import pandas as pd\n",
    "df = pd.DataFrame(columns=['name', 'date', 'review', 'score'])\n",
    "\n",
    "url1='https://www.coupang.com/vp/product/reviews?productId=_______&page='\n",
    "url2='&size=100&sortBy=ORDER_SCORE_ASC&ratings='\n",
    "url3='&q=&viRoleCode=3&ratingSummary=true'\n",
    "\n",
    "nono=\"명에게 도움 됨\"\n",
    "nob=[\"향 만족도 __ ____\", \"향 만족도 ___ ____\", \"향 만족도 _____ ___\",\n",
    "     \"거품력 ___ ____\", \"거품력 ___ ____\", \"거품력 ____ ___ ___\",\n",
    "     \"보습력 예상만큼 좋아요\", \"보습력 중간 정도에요\", \"보습력 예상보다 떨어져요\"]\n",
    "\n",
    "for i in range(5, 0,-1):\n",
    "    for k in range(1, 11):\n",
    "        driver = webdriver.Chrome('/Users/user/Downloads/chromedriver.exe')\n",
    "        url = url1 + str(k) + url2 + str(i) + url3\n",
    "        driver.get(url)\n",
    "        time.sleep(3)\n",
    "        \n",
    "        for j in range(1, 101):\n",
    "            try:\n",
    "                user=driver.find_element_by_xpath('''/html/body/article[%s]/div[1]/div[2]/span'''%j).text.strip()\n",
    "                date=driver.find_element_by_xpath('''/html/body/article[%s]/div[1]/div[3]/div[2]'''%j).text.strip()        \n",
    "                rev=driver.find_element_by_xpath('''/html/body/article[%s]/div[4]/div'''%j).text.strip()\n",
    "                \n",
    "                #영상 올리거나 사진 많이 올리면 xpath가 다름\n",
    "                if nono in rev:\n",
    "                    rev=driver.find_element_by_xpath('''/html/body/article[%s]/div[3]/div'''%j).text.strip()\n",
    "                    if nono in rev:\n",
    "                        rev=driver.find_element_by_xpath('''/html/body/article[%s]/div[3]'''%j).text.strip()\n",
    "                if rev in nob:\n",
    "                    rev=driver.find_element_by_xpath('''/html/body/article[%s]/div[3]/div'''%j).text.strip()\n",
    "                    if rev in nob:\n",
    "                        rev=driver.find_element_by_xpath('''/html/body/article[%s]/div[3]'''%j).text.strip()\n",
    "                        \n",
    "                df=df.append({'name' : user, 'date' : date, 'review' : rev, 'score' : i} , ignore_index=True)\n",
    "            except:\n",
    "                pass\n",
    "        driver.close()"
   ]
  },
  {
   "cell_type": "markdown",
   "metadata": {},
   "source": [
    "df"
   ]
  },
  {
   "cell_type": "code",
   "execution_count": null,
   "metadata": {},
   "outputs": [],
   "source": [
    "df[\"score\"].value_counts()"
   ]
  },
  {
   "cell_type": "code",
   "execution_count": null,
   "metadata": {},
   "outputs": [],
   "source": [
    "df.to_csv(\"카테고리_상품명.csv\")"
   ]
  }
 ],
 "metadata": {
  "kernelspec": {
   "display_name": "Python 3",
   "language": "python",
   "name": "python3"
  },
  "language_info": {
   "codemirror_mode": {
    "name": "ipython",
    "version": 3
   },
   "file_extension": ".py",
   "mimetype": "text/x-python",
   "name": "python",
   "nbconvert_exporter": "python",
   "pygments_lexer": "ipython3",
   "version": "3.7.3"
  }
 },
 "nbformat": 4,
 "nbformat_minor": 4
}
